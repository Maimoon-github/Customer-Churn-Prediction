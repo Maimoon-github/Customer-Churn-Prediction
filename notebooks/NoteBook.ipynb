{
 "cells": [
  {
   "cell_type": "markdown",
   "id": "232ab4b3",
   "metadata": {},
   "source": [
    "# **Task Overview**\n",
    "> **Objective:** Build a machine learning model to predict customer churn using historical data.\n",
    "\n",
    "### **Deliverables:**\n",
    "\n",
    "• Exploratory Data Analysis (EDA)\n",
    "\n",
    "• Feature engineering\n",
    "\n",
    "• Train/test split and model selection (Logistic Regression, XGBoost, etc.)\n",
    "\n",
    "• Performance metrics (confusion matrix, AUC-ROC)\n",
    "\n",
    "• Final report with visualizations\n"
   ]
  },
  {
   "cell_type": "markdown",
   "id": "1e708d31",
   "metadata": {},
   "source": [
    "### **Mock Data (Python):**"
   ]
  },
  {
   "cell_type": "code",
   "execution_count": 1,
   "id": "1f550d19",
   "metadata": {},
   "outputs": [],
   "source": [
    "import pandas as pd\n",
    "\n",
    "import numpy as np\n",
    "\n",
    "\n",
    "\n",
    "np.random.seed(42)\n",
    "\n",
    "n = 10000\n",
    "\n",
    "data = pd.DataFrame({\n",
    "\n",
    "  'CustomerID': np.arange(n),\n",
    "\n",
    "  'Gender': np.random.choice(['Male', 'Female'], size=n),\n",
    "\n",
    "  'SeniorCitizen': np.random.choice([0, 1], size=n),\n",
    "\n",
    "  'Tenure': np.random.randint(1, 72, size=n),\n",
    "\n",
    "  'MonthlyCharges': np.round(np.random.uniform(20, 120, size=n), 2),\n",
    "\n",
    "  'TotalCharges': lambda df: df['Tenure'] * df['MonthlyCharges'],\n",
    "\n",
    "  'Contract': np.random.choice(['Month-to-month', 'One year', 'Two year'], size=n),\n",
    "\n",
    "  'PaymentMethod': np.random.choice(['Electronic check', 'Mailed check', 'Bank transfer', 'Credit card'], size=n),\n",
    "\n",
    "  'Churn': np.random.choice([0, 1], size=n, p=[0.73, 0.27])\n",
    "\n",
    "})\n",
    "\n",
    "data['TotalCharges'] = (data['Tenure'] * data['MonthlyCharges']).round(2)"
   ]
  },
  {
   "cell_type": "code",
   "execution_count": null,
   "id": "4117d72c",
   "metadata": {
    "vscode": {
     "languageId": "r"
    }
   },
   "outputs": [],
   "source": [
    "# Exploratory Data Analysis (EDA)\n",
    "\n",
    "# Display basic information about the dataset\n",
    "print(\"Dataset shape:\", data.shape)\n",
    "\n",
    "# Display descriptive statistics\n",
    "print(\"\\nDescriptive statistics:\")\n",
    "display(data.describe())\n",
    "\n",
    "# Check for missing values\n",
    "print(\"\\nMissing values in each column:\")\n",
    "print(data.isnull().sum())\n",
    "\n",
    "# Explore the target variable distribution\n",
    "print(\"\\nChurn distribution:\")\n",
    "churn_counts = data['Churn'].value_counts(normalize=True) * 100\n",
    "print(churn_counts.to_frame().rename(columns={'Churn': 'Percentage (%)'}))\n",
    "\n",
    "# Visualize the churn distribution\n",
    "import matplotlib.pyplot as plt\n",
    "plt.figure(figsize=(8, 5))\n",
    "plt.pie(churn_counts, labels=['No Churn (0)', 'Churn (1)'], autopct='%1.1f%%', startangle=90)\n",
    "plt.title('Customer Churn Distribution')\n",
    "plt.axis('equal')\n",
    "plt.show()"
   ]
  },
  {
   "cell_type": "code",
   "execution_count": null,
   "id": "92787974",
   "metadata": {},
   "outputs": [],
   "source": []
  },
  {
   "cell_type": "markdown",
   "id": "fabd15f4",
   "metadata": {},
   "source": []
  }
 ],
 "metadata": {
  "kernelspec": {
   "display_name": "jupyter_py",
   "language": "python",
   "name": "python3"
  },
  "language_info": {
   "codemirror_mode": {
    "name": "ipython",
    "version": 3
   },
   "file_extension": ".py",
   "mimetype": "text/x-python",
   "name": "python",
   "nbconvert_exporter": "python",
   "pygments_lexer": "ipython3",
   "version": "3.13.2"
  }
 },
 "nbformat": 4,
 "nbformat_minor": 5
}
